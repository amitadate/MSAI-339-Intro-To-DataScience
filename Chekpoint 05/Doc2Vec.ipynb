{
 "cells": [
  {
   "cell_type": "code",
   "execution_count": 11,
   "metadata": {},
   "outputs": [
    {
     "ename": "SyntaxError",
     "evalue": "invalid syntax (<ipython-input-11-12919c0144e5>, line 2)",
     "output_type": "error",
     "traceback": [
      "\u001b[0;36m  File \u001b[0;32m\"<ipython-input-11-12919c0144e5>\"\u001b[0;36m, line \u001b[0;32m2\u001b[0m\n\u001b[0;31m    import keras-preprosessing\u001b[0m\n\u001b[0m                ^\u001b[0m\n\u001b[0;31mSyntaxError\u001b[0m\u001b[0;31m:\u001b[0m invalid syntax\n"
     ]
    }
   ],
   "source": [
    "#imports\n",
    "import keras-preprosessing\n",
    "from keras.preprocessing.text import hashing_trick\n",
    "from keras.preprocessing.text import text_to_word_sequence"
   ]
  },
  {
   "cell_type": "code",
   "execution_count": 4,
   "metadata": {},
   "outputs": [],
   "source": [
    "fopen = open(\"trr_paxson.txt\",'r')"
   ]
  },
  {
   "cell_type": "code",
   "execution_count": 6,
   "metadata": {},
   "outputs": [
    {
     "data": {
      "text/plain": [
       "'TACTICAL RESPONSE Police Department\\n\\n \\n\\n2 OF OCCURRENCE\\n\\n \\n\\n \\n\\n\\nI). \\n\\nJ. ION CODE\\n\\n \\n\\n \\n\\n \\n\\n \\n\\n \\n\\n \\n\\n \\n\\n \\n\\n \\n\\n \\n\\n \\n\\n \\n\\n \\n\\n \\n\\n \\n\\n \\n\\n \\n\\n \\n\\n \\n\\n \\n\\n \\n\\n \\n\\n \\n\\n \\n\\n \\n\\n \\n\\n \\n\\n \\n\\n \\n\\n \\n\\n \\n\\n1 DATE OF INCIDENT \\n12-MAY-201 6 09:15:00 10341 UNION AVE CHICAGO. IL 60628 290 2232\\na POSITION LAST NAME 7 FIRST NAME STAR No SEX RACE comI.IJ\\nIE) 3 9161 PAXSON MICHAEL 12378 $01 DOZF 507 150\\n14 DATE OF APPT 15 EMPLOYEE NO l6 UNIT 3. BEAT OF ASSIGNMENT 17 DUTY STATUS In, MEMBER IN \\nLLI \\n29-NOV-2004 353 4653A $LAST NAME 21. FIRST NAME 2:2: 111 SET: :1 RACE 25 213. HT 27 WT\\nDNA ROBINSON KEVIN 01 BLK 21-JAN-1985 600 150\\n.\\nEBADDRESS 10341 3 UNION AVE IL 29 TELEPHONE No 30 WAS SUBJECT 31 SUBJECT :19 SUBJECT ALLEGED \\n50523 3:1 WHERE WAS MEDICAL TREATMENT 34 BY B.- LINN-ION 01 Normal I I 02 Undermnuence\\n03 Hospitalized 04 Not Hospitalized 05 Refused Medical Aid\\n3\\ng, 31;. CHARGES PLACED DNA PASSIVE RESISTER ACTIVE RESISTER FORCE\\nDID NOT FOLLOW . . I, USES FORCE LIKELY T0\\nDNA VERBAL DIRECTION FLED I I ATTACK WITH WEAPON . CAUSE DEATH 0R \\n5 2 GREAT BODILY HARM\\nu] STIFFENED ATTACK WITHOUT -\\na I: (DEAD WEIGHT) I PULLED AWAY I: OTHER WEAPON WEAPON \\nIn 0\\n2 a OTHER OTHER OTHER OTHER\\nLI.\\n0 3 MEMBER PRESENCE OPEN HAND STRIKE ELBOW STRIKE i KNEE STRIKE I  FIREARM \\ng: VERBAL COMMANDS TAKE DOWN I EMERGENCY\\nLu HANDCUPPING CLOSED HAND\\n9\"\\na 21, ESCORT HOLDS 00 CHEMICAL WEAPON KICKS El OTHER \\nno! 2 Lu 0 WRISTLOCK \\nu. n. ARMBAR IMPACT WEAPON\\n?0 TASER (Probe Discharge) ?395cm? 40) El\\n0 Lu PRESSURE SENSITIVE AREAS (Descrle In Box 40)\\n0 Ir TASER (Contact SIun)\\na, CONTROL INSTRUMENT\\na 5 OCICHEMICAL WEAPON TASER (Spark \\nWIAUTHORIZATION OTHER OTHER\\nOTHER\\n\\n \\n\\n \\n\\n \\n\\n \\n\\n \\n\\n\\nZDP\\n\\n\\nWEAPON DISCHARGE INCIDENT\\n\\nOCICHEMICAL WEAPON AUTHORIZED BY (NAME)\\n\\n \\n\\nPOSITION STAR N0\\n\\n \\n\\nUNIT\\n\\n \\n\\n \\n\\n4t] ADDITIONAL INFORMATION\\n\\nGLOCK 45 CALIBER SEMI-AUTO HANDGUN.\\n\\n \\n\\n41 WEAPON TYPE\\nEl 01 REVOLVER\\n02 RIFLE\\n\\n[j 03 SHOTGUN\\n\\nEl 07 OTHER\\n\\n04 SEMI-AUTO PISTOL\\nI: 05 CHEMICAL WEAPON\\n\\n06 TASER (Probe Discharge)\\n\\n47. INCIDENT OCCURRED\\n\\nIndoors Outdoors\\n\\n \\n\\nd3. LIGHTING CONDITIONS\\n\\n j 02 Night\\n05 PoorAItl?cIaI\\n\\n03 Dawn\\n\\n8 01DayIIghI\\nEl 04 Dusk\\n06 Good Arti?cial\\n\\n \\n\\nWEATHER CONDITIONS\\n\\nCLEAR\\n\\n \\n\\n\\n\\n \\n\\nGWINN FIREARMS -US- (BUSHMASTER)\\n\\nIKE MODEL\\n\\nXM15\\n\\n \\n\\nBARREL LENGTH\\n\\n14.5\\n\\n \\n\\n-Ili. \\n\\n223I5.56\\n\\n \\n\\n \\n\\n \\n\\n \\n\\n \\n\\n \\n\\n \\n\\n \\n\\n \\n\\n \\n\\n \\n\\n \\n\\n \\n\\n \\n\\n \\n\\n \\n\\n \\n\\n \\n\\n \\n\\n \\n\\n \\n\\n49 TASER DART ID NO. 50. WEAPON SERIAL No (Include Letters) 51 CHICAGO GUN REG NO 52. IL FIREARM OWNER ID NO, 5-13. HANDGUN CERTIFICATE NO\\nL274582 26090958\\n54 SPECIAL WEAPON CERTIFICATE NO 55 PROPERTY INVENTORY N0 TYPE OF AMMUNITION USED 57 NO OF WEAPONS DISCHARGED BY 58 TOTAL NO OF SHOTS MEMBER\\nDepartment Issued THIS MEMBER 1 FIRED \\n59. WHO FIRED FIRST SHOT [303 OTHER (SPECIFY) 60 WAS FIREARM RELOADED 61 NO OF 62 HOW WAS HANDGUN WORN D03 OTHER (specuy) Q.\\nDURING INCIDENT SHOT SHELLS A \\nMEMBER 02 OFFENDER El 01 YES 02 No RELOADED 01 RT SIDE (WAIST) (j 02 LT SIDE (WAIST) a, Is\"\\n2\\n11: HOW WAS HANDGUN DRAWN 03 OTHER (specuy) H4 SPECIFY METHODIEQUIPMENT USED TO 11!. DID MEMBER USE SIGHTS a: \\nI_ o1 STRONG SIDE DRAW 02 CROSS DRAW \"DESCRIBE PROTECTIVE COVER USED (LIGHT POLES) DOORWAYS. CAR. ETC) 67 DISTANCE BETWEEN INVOLVED MEMBER OFFENDER WHEN FIRST SHOT WAS FIRED 3\\nNOT COVERED 010 -05FT 0205-10FT 0310-15FT 04 OVER 15 FT \\n58 PERSONIOBJECT STRUCK AS RESULT OF THE DISCHARGE OF MEMBERS WEAPON 69 POSITION OF MEMBER DISCHARGING WEAPON 01 STANDING 02 LYING DOWN \\nE) 01 PERSON El 02 OBJECT 03 BOTH 04 UNKNOWN El 03 SITTING (j 04 KNEELING 05 OTHER (SPECIFY)\\n\\n72 T.\\nNOTIFICATIONS (00 OR TASER INCIDENT): OEMC DSS OF OCCUR. CPIC I,\\n\\n5,1 NOTIFICATIONS (FIREARM INCIDENT): OEMC E) DSSIDIST, OCCUR 3. 0cm CPIC DET. DIVMembers ensure that all reqUIred notI?catIons and all WItnesses to thIs use of force are documented In the appropIate case report. \\n73. REPORTING MEMBER (Print Name) NO SIGNATURE 8\\na, PAXSON. MICHAEL 12378 \\n12-MAY-2016 20-26-30 5\"\\n- a.\\nReviewing supervisor will ensure the legibility and completeness of this report and attest by entering the required information below. a\\n5 74 REVIEWING SUPERVISOR Name) STAR NO. SIGNATURE DATE REVIEWED TIME\\nF) LAMB JR, THOMAS 1925 12-MAY-2016 20:29:39\\n\\n \\n\\n \\n\\n \\n\\n \\n\\nCPD-11.377 (REV. 3(08)\\n\\n'"
      ]
     },
     "execution_count": 6,
     "metadata": {},
     "output_type": "execute_result"
    }
   ],
   "source": []
  },
  {
   "cell_type": "code",
   "execution_count": null,
   "metadata": {},
   "outputs": [],
   "source": []
  }
 ],
 "metadata": {
  "kernelspec": {
   "display_name": "Python 3",
   "language": "python",
   "name": "python3"
  },
  "language_info": {
   "codemirror_mode": {
    "name": "ipython",
    "version": 3
   },
   "file_extension": ".py",
   "mimetype": "text/x-python",
   "name": "python",
   "nbconvert_exporter": "python",
   "pygments_lexer": "ipython3",
   "version": "3.6.6"
  }
 },
 "nbformat": 4,
 "nbformat_minor": 2
}
