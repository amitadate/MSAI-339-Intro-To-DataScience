{
 "cells": [
  {
   "cell_type": "code",
   "execution_count": 1,
   "metadata": {},
   "outputs": [],
   "source": [
    "from nltk.corpus import PlaintextCorpusReader\n",
    "corpus_root = '/Users/amitadate/TRR'  # Mac users should leave out C:\n",
    "inaug = PlaintextCorpusReader(corpus_root, '.*txt')  # all files ending in 'txt' "
   ]
  },
  {
   "cell_type": "code",
   "execution_count": 2,
   "metadata": {},
   "outputs": [
    {
     "data": {
      "text/plain": [
       "['trr_allen.txt',\n",
       " 'trr_alonzo.txt',\n",
       " 'trr_chrabot.txt',\n",
       " 'trr_czapla.txt',\n",
       " 'trr_fergus.txt',\n",
       " 'trr_golden.txt',\n",
       " 'trr_honda.txt',\n",
       " 'trr_josephs.txt',\n",
       " 'trr_konior.txt',\n",
       " 'trr_marcovich.txt',\n",
       " 'trr_meador.txt',\n",
       " 'trr_mocraski.txt',\n",
       " 'trr_pantano.txt',\n",
       " 'trr_paxson.txt',\n",
       " 'trr_pratscher.txt',\n",
       " 'trr_quinn.txt',\n",
       " 'trr_reyes.txt',\n",
       " 'trr_ridge.txt',\n",
       " 'trr_rosen.txt',\n",
       " 'trr_smith.txt',\n",
       " 'trr_wilberg.txt',\n",
       " 'trr_wojtaczka.txt',\n",
       " 'trr_yanez.txt',\n",
       " 'trr_zayas.txt']"
      ]
     },
     "execution_count": 2,
     "metadata": {},
     "output_type": "execute_result"
    }
   ],
   "source": [
    "inaug.fileids()"
   ]
  },
  {
   "cell_type": "code",
   "execution_count": null,
   "metadata": {},
   "outputs": [],
   "source": []
  }
 ],
 "metadata": {
  "kernelspec": {
   "display_name": "Python 3",
   "language": "python",
   "name": "python3"
  },
  "language_info": {
   "codemirror_mode": {
    "name": "ipython",
    "version": 3
   },
   "file_extension": ".py",
   "mimetype": "text/x-python",
   "name": "python",
   "nbconvert_exporter": "python",
   "pygments_lexer": "ipython3",
   "version": "3.6.6"
  }
 },
 "nbformat": 4,
 "nbformat_minor": 2
}
