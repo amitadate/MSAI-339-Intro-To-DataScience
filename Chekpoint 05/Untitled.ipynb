{
 "cells": [
  {
   "cell_type": "code",
   "execution_count": null,
   "metadata": {},
   "outputs": [],
   "source": [
    "from nltk.corpus import PlaintextCorpusReader\n",
    "corpus_root = '/user/amitadate/TRR_extracted/' \n",
    "inaug = PlaintextCorpusReader(corpus_root, '.*txt')  # all files ending in 'txt' "
   ]
  },
  {
   "cell_type": "code",
   "execution_count": 4,
   "metadata": {},
   "outputs": [
    {
     "data": {
      "text/plain": [
       "['trr_allen.txt',\n",
       " 'trr_alonzo.txt',\n",
       " 'trr_chrabot.txt',\n",
       " 'trr_czapla.txt',\n",
       " 'trr_fergus.txt',\n",
       " 'trr_golden.txt',\n",
       " 'trr_honda.txt',\n",
       " 'trr_josephs.txt',\n",
       " 'trr_konior.txt',\n",
       " 'trr_marcovich.txt',\n",
       " 'trr_meador.txt',\n",
       " 'trr_mocraski.txt',\n",
       " 'trr_pantano.txt',\n",
       " 'trr_paxson.txt',\n",
       " 'trr_pratscher.txt',\n",
       " 'trr_quinn.txt',\n",
       " 'trr_reyes.txt',\n",
       " 'trr_ridge.txt',\n",
       " 'trr_rosen.txt',\n",
       " 'trr_smith.txt',\n",
       " 'trr_wilberg.txt',\n",
       " 'trr_wojtaczka.txt',\n",
       " 'trr_yanez.txt',\n",
       " 'trr_zayas.txt']"
      ]
     },
     "execution_count": 4,
     "metadata": {},
     "output_type": "execute_result"
    }
   ],
   "source": [
    "inaug.fileids()"
   ]
  },
  {
   "cell_type": "code",
   "execution_count": null,
   "metadata": {},
   "outputs": [],
   "source": [
    "path = 'document-cloud-txt/' # use your path\n",
    "allFiles = glob.glob(path + \"*.txt\")\n",
    "\n",
    "frame = pd.DataFrame(columns=['FileName','Text'])\n",
    "list_ = []\n",
    "for file_ in allFiles:\n",
    "   temp = open(file_,'r')\n",
    "   data = temp.read()\n",
    "   frame1 = pd.DataFrame({'FileName': os.path.basename(file_), 'Text': data},index=[0])\n",
    "   #new_row = [os.path.basename(file_),\"data\"]\n",
    "   #frame.append(new_row)\n",
    "   frame = pd.concat([frame1,frame.iloc[:]]).reset_index(drop=True)"
   ]
  },
  {
   "cell_type": "code",
   "execution_count": null,
   "metadata": {},
   "outputs": [],
   "source": [
    "frame['Text'] = frame.Text.apply(lambda x: None if x.find(\"?xml\") >= 1 else x)\n",
    "frame.dropna(subset=['Text'],inplace=True)\n",
    "frame.reset_index(drop=True, inplace=True)"
   ]
  }
 ],
 "metadata": {
  "kernelspec": {
   "display_name": "Python 3",
   "language": "python",
   "name": "python3"
  },
  "language_info": {
   "codemirror_mode": {
    "name": "ipython",
    "version": 3
   },
   "file_extension": ".py",
   "mimetype": "text/x-python",
   "name": "python",
   "nbconvert_exporter": "python",
   "pygments_lexer": "ipython3",
   "version": "3.6.6"
  }
 },
 "nbformat": 4,
 "nbformat_minor": 2
}
